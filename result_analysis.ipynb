{
 "cells": [
  {
   "cell_type": "code",
   "execution_count": 2,
   "id": "3287db03",
   "metadata": {
    "collapsed": true
   },
   "outputs": [
    {
     "name": "stdout",
     "output_type": "stream",
     "text": [
      "PyMOL failed to start, dumping diagnostics...\n",
      "pymol-2.5.4-py39he7683a9_0.json\n",
      "conda build: py39he7683a9_0 https://conda.anaconda.org/schrodinger/linux-64\n",
      "\n",
      "Operating System:\n",
      "Linux-5.15.79.1-microsoft-standard-WSL2-x86_64-with-glibc2.35\n",
      "#1 SMP Wed Nov 23 01:01:46 UTC 2022\n",
      "(libGL.so.1: cannot open shared object file: No such file or directory)\n",
      "\n",
      "Python:\n",
      "3.9.15 | packaged by conda-forge | (main, Nov 22 2022, 08:45:29) \n",
      "[GCC 10.4.0]\n",
      "prefix=/home/romfahrury/anaconda3/envs/vina\n",
      "executable=/home/romfahrury/anaconda3/envs/vina/bin/python\n",
      "filesystemencoding=utf-8\n",
      "\n",
      "Qt, Python and PyMOL Environment Variables:\n",
      "LANG=C.UTF-8\n",
      "PYDEVD_USE_FRAME_EVAL=NO\n",
      "PYMOL_DATA=/home/romfahrury/anaconda3/envs/vina/share/pymol/data\n",
      "PYMOL_PATH=/home/romfahrury/anaconda3/envs/vina/share/pymol\n",
      "QT_XKB_CONFIG_ROOT=/home/romfahrury/anaconda3/envs/vina/lib\n",
      "\n",
      "PATH:\n",
      "/home/romfahrury/anaconda3/envs/vina/bin:/home/romfahrury/anaconda3/condabin:/\n",
      "usr/local/sbin:/usr/local/bin:/usr/sbin:/usr/bin:/sbin:/bin:/usr/games:/usr/lo\n",
      "cal/games:/usr/lib/wsl/lib:/mnt/c/Program Files/WindowsApps/CanonicalGroupLimi\n",
      "ted.Ubuntu_2204.1.8.0_x64__79rhkp1fndgsc:/mnt/c/ProgramData/Anaconda3:/mnt/c/P\n",
      "rogramData/Anaconda3/Library/mingw-w64/bin:/mnt/c/ProgramData/Anaconda3/Librar\n",
      "y/usr/bin:/mnt/c/ProgramData/Anaconda3/Library/bin:/mnt/c/ProgramData/Anaconda\n",
      "3/Scripts:/mnt/c/Program Files/NVIDIA GPU Computing\n",
      "Toolkit/CUDA/v11.5/bin:/mnt/c/Program Files/NVIDIA GPU Computing Toolkit/CUDA/\n",
      "v11.5/libnvvp:/mnt/c/Windows/system32:/mnt/c/Windows:/mnt/c/Windows/System32/W\n",
      "bem:/mnt/c/Windows/System32/WindowsPowerShell/v1.0:/mnt/c/Windows/System32/Ope\n",
      "nSSH:/mnt/c/Program Files (x86)/NVIDIA Corporation/PhysX/Common:/mnt/c/Program\n",
      "Files/NVIDIA Corporation/NVIDIA NvDLISR:/mnt/c/Program Files/NVIDIA\n",
      "Corporation/Nsight Compute 2021.3.0:/mnt/c/AvogadroOrca4.1/Avogadro/bin:/mnt/c\n",
      "/Users/ahmadkamal-n/AppData/Local/Programs/Python/Python36/Scripts:/mnt/c/User\n",
      "s/ahmadkamal-n/AppData/Local/Programs/Python/Python36:/mnt/c/Users/ahmadkamal-\n",
      "n/AppData/Local/Microsoft/WindowsApps:/mnt/c/Program Files/NVIDIA GPU\n",
      "Computing Toolkit/CUDA/v11.5/include:/mnt/c/Program Files/NVIDIA GPU Computing\n",
      "Toolkit/CUDA/v11.5/nvvm:/mnt/c/Program Files/NVIDIA GPU Computing\n",
      "Toolkit/CUDA/v11.0/extras/CUPTI/lib64:/mnt/c/Program Files/JetBrains/RubyMine\n",
      "2021.3/bin:/mnt/c/Program Files/JetBrains/RubyMine\n",
      "2021.3/bin:/mnt/c/Users/ahmadkamal-n/AppData/Local/Programs/Microsoft VS\n",
      "Code/bin:/snap/bin\n",
      "\n"
     ]
    },
    {
     "ename": "ImportError",
     "evalue": "libGL.so.1: cannot open shared object file: No such file or directory",
     "output_type": "error",
     "traceback": [
      "\u001b[0;31m---------------------------------------------------------------------------\u001b[0m",
      "\u001b[0;31mImportError\u001b[0m                               Traceback (most recent call last)",
      "Cell \u001b[0;32mIn[2], line 16\u001b[0m\n\u001b[1;32m     13\u001b[0m \u001b[38;5;28;01mfrom\u001b[39;00m \u001b[38;5;21;01mmatplotlib\u001b[39;00m \u001b[38;5;28;01mimport\u001b[39;00m pyplot \u001b[38;5;28;01mas\u001b[39;00m plt\n\u001b[1;32m     14\u001b[0m \u001b[38;5;28;01mimport\u001b[39;00m \u001b[38;5;21;01mseaborn\u001b[39;00m \u001b[38;5;28;01mas\u001b[39;00m \u001b[38;5;21;01msns\u001b[39;00m\n\u001b[0;32m---> 16\u001b[0m \u001b[38;5;28;01mfrom\u001b[39;00m \u001b[38;5;21;01mutils\u001b[39;00m \u001b[38;5;28;01mimport\u001b[39;00m get_inplace_rmsd\n\u001b[1;32m     18\u001b[0m get_ipython()\u001b[38;5;241m.\u001b[39mrun_line_magic(\u001b[38;5;124m'\u001b[39m\u001b[38;5;124mmatplotlib\u001b[39m\u001b[38;5;124m'\u001b[39m, \u001b[38;5;124m'\u001b[39m\u001b[38;5;124minline\u001b[39m\u001b[38;5;124m'\u001b[39m)\n",
      "File \u001b[0;32m~/vina/utils.py:2\u001b[0m\n\u001b[1;32m      1\u001b[0m \u001b[38;5;28;01mimport\u001b[39;00m \u001b[38;5;21;01mpy3Dmol\u001b[39;00m\n\u001b[0;32m----> 2\u001b[0m \u001b[38;5;28;01mfrom\u001b[39;00m \u001b[38;5;21;01mpymol\u001b[39;00m \u001b[38;5;28;01mimport\u001b[39;00m cmd\n\u001b[1;32m      3\u001b[0m \u001b[38;5;28;01mfrom\u001b[39;00m \u001b[38;5;21;01mopenbabel\u001b[39;00m \u001b[38;5;28;01mimport\u001b[39;00m pybel\n\u001b[1;32m      5\u001b[0m \u001b[38;5;28;01mfrom\u001b[39;00m \u001b[38;5;21;01mrdkit\u001b[39;00m \u001b[38;5;28;01mimport\u001b[39;00m Chem\n",
      "File \u001b[0;32m~/anaconda3/envs/vina/lib/python3.9/site-packages/pymol/__init__.py:620\u001b[0m\n\u001b[1;32m    617\u001b[0m     _ctypes\u001b[38;5;241m.\u001b[39mLoadLibrary(filename)\n\u001b[1;32m    619\u001b[0m \u001b[38;5;28;01mtry\u001b[39;00m:\n\u001b[0;32m--> 620\u001b[0m     \u001b[38;5;28;01mimport\u001b[39;00m \u001b[38;5;21;01mpymol\u001b[39;00m\u001b[38;5;21;01m.\u001b[39;00m\u001b[38;5;21;01m_cmd\u001b[39;00m\n\u001b[1;32m    621\u001b[0m \u001b[38;5;28;01mexcept\u001b[39;00m \u001b[38;5;167;01mImportError\u001b[39;00m:\n\u001b[1;32m    622\u001b[0m     _report_cmd_DLL_problem()\n",
      "\u001b[0;31mImportError\u001b[0m: libGL.so.1: cannot open shared object file: No such file or directory"
     ]
    }
   ],
   "source": [
    "import os\n",
    "\n",
    "# The powerful libraries from rdkit I will use:\n",
    "from rdkit import Chem\n",
    "from rdkit.Chem import rdFMCS,AllChem, Draw, PandasTools\n",
    "from rdkit.Chem.Draw import DrawingOptions\n",
    "\n",
    "import py3Dmol\n",
    "\n",
    "import numpy as np\n",
    "import math\n",
    "import pandas as pd\n",
    "from matplotlib import pyplot as plt\n",
    "import seaborn as sns\n",
    "\n",
    "from utils import get_inplace_rmsd\n",
    "\n",
    "%matplotlib inline"
   ]
  },
  {
   "cell_type": "code",
   "execution_count": 3,
   "id": "8bf21876",
   "metadata": {
    "scrolled": true
   },
   "outputs": [
    {
     "data": {
      "image/png": "[encoded data removed]",
      "text/plain": [
       "<rdkit.Chem.rdchem.Mol at 0x7f7abaeeea00>"
      ]
     },
     "execution_count": 3,
     "metadata": {},
     "output_type": "execute_result"
    }
   ],
   "source": [
    "Reference=Chem.MolFromMol2File('dataset/processed/mol2/442402.mol2')\n",
    "Reference.SetProp('_Name','Ref')\n",
    "Reference"
   ]
  },
  {
   "cell_type": "code",
   "execution_count": 22,
   "id": "b9049783",
   "metadata": {},
   "outputs": [
    {
     "data": {
      "text/html": [
       "<div>\n",
       "<style scoped>\n",
       "    .dataframe tbody tr th:only-of-type {\n",
       "        vertical-align: middle;\n",
       "    }\n",
       "\n",
       "    .dataframe tbody tr th {\n",
       "        vertical-align: top;\n",
       "    }\n",
       "\n",
       "    .dataframe thead th {\n",
       "        text-align: right;\n",
       "    }\n",
       "</style>\n",
       "<table border=\"1\" class=\"dataframe\">\n",
       "  <thead>\n",
       "    <tr style=\"text-align: right;\">\n",
       "      <th></th>\n",
       "      <th>MODEL</th>\n",
       "      <th>REMARK</th>\n",
       "      <th>TORSDO</th>\n",
       "      <th>ID</th>\n",
       "      <th>ROMol</th>\n",
       "    </tr>\n",
       "  </thead>\n",
       "  <tbody>\n",
       "    <tr>\n",
       "      <th>0</th>\n",
       "      <td>1</td>\n",
       "      <td>VINA RESULT:   -10.946      0.000      0.000\\...</td>\n",
       "      <td>F 7</td>\n",
       "      <td>dataset/results/pdbqt/P02768_370.pdbqt</td>\n",
       "      <td style=\"text-align: center;\"><div style=\"width: 200px; height: 200px\" data-content=\"rdkit/molecule\"><img src=\"data:image/png;base64,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\" alt=\"Mol\"/></div></td>\n",
       "    </tr>\n",
       "  </tbody>\n",
       "</table>\n",
       "</div>"
      ],
      "text/plain": [
       "  MODEL                                             REMARK TORSDO  \\\n",
       "0     1   VINA RESULT:   -10.946      0.000      0.000\\...    F 7   \n",
       "\n",
       "                                       ID  \\\n",
       "0  dataset/results/pdbqt/P02768_370.pdbqt   \n",
       "\n",
       "                                              ROMol  \n",
       "0  <rdkit.Chem.rdchem.Mol object at 0x7f7a9e05cfa0>  "
      ]
     },
     "execution_count": 22,
     "metadata": {},
     "output_type": "execute_result"
    }
   ],
   "source": [
    "VinaPoses=PandasTools.LoadSDF('dataset/results/sdf/P02768_370.sdf')\n",
    "VinaPoses"
   ]
  },
  {
   "cell_type": "code",
   "execution_count": null,
   "id": "743f5c61",
   "metadata": {},
   "outputs": [],
   "source": []
  }
 ],
 "metadata": {
  "kernelspec": {
   "display_name": "Python 3 (ipykernel)",
   "language": "python",
   "name": "python3"
  },
  "language_info": {
   "codemirror_mode": {
    "name": "ipython",
    "version": 3
   },
   "file_extension": ".py",
   "mimetype": "text/x-python",
   "name": "python",
   "nbconvert_exporter": "python",
   "pygments_lexer": "ipython3",
   "version": "3.9.15"
  }
 },
 "nbformat": 4,
 "nbformat_minor": 5
}
